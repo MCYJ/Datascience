{
 "cells": [
  {
   "cell_type": "markdown",
   "metadata": {},
   "source": [
    "202101544 마영준"
   ]
  },
  {
   "cell_type": "code",
   "execution_count": 7,
   "metadata": {},
   "outputs": [],
   "source": [
    "from IPython.core.interactiveshell import InteractiveShell\n",
    "InteractiveShell.ast_node_interactivity = \"all\""
   ]
  },
  {
   "cell_type": "code",
   "execution_count": 1,
   "metadata": {},
   "outputs": [
    {
     "name": "stdout",
     "output_type": "stream",
     "text": [
      "-12\n",
      "-3\n",
      "4\n"
     ]
    }
   ],
   "source": [
    "# 1\n",
    "def f1(x,y):\n",
    "    return x*y\n",
    "\n",
    "x = 4\n",
    "y = -3\n",
    "dfdx = y\n",
    "dfdy = x\n",
    "\n",
    "print(f1(x,y))\n",
    "print(dfdx)\n",
    "print(dfdy)"
   ]
  },
  {
   "cell_type": "code",
   "execution_count": 2,
   "metadata": {},
   "outputs": [
    {
     "name": "stdout",
     "output_type": "stream",
     "text": [
      "1\n",
      "1\n",
      "1\n"
     ]
    }
   ],
   "source": [
    "# 2\n",
    "def f2(x,y):\n",
    "    return x+y\n",
    "\n",
    "x=4\n",
    "y=-3\n",
    "dfdx = 1\n",
    "dfdy = 1\n",
    "\n",
    "print(f2(x,y))\n",
    "print(dfdx)\n",
    "print(dfdy)"
   ]
  },
  {
   "cell_type": "code",
   "execution_count": 3,
   "metadata": {},
   "outputs": [
    {
     "name": "stdout",
     "output_type": "stream",
     "text": [
      "4\n",
      "1\n",
      "0\n"
     ]
    }
   ],
   "source": [
    "# 3\n",
    "def f3(x,y):\n",
    "    return max(x,y)\n",
    "\n",
    "x=4\n",
    "y=2\n",
    "\n",
    "dfdx = 1 if x > y else 0\n",
    "dfdy = 1 if x < y else 0\n",
    "print(f3(x,y))\n",
    "print(dfdx)\n",
    "print(dfdy)"
   ]
  },
  {
   "cell_type": "code",
   "execution_count": 16,
   "metadata": {},
   "outputs": [
    {
     "name": "stdout",
     "output_type": "stream",
     "text": [
      "q = 3\n",
      "f = -12\n",
      "dfdq = -4\n",
      "dfdx = -4.0\n",
      "dfdy = -4.0\n",
      "dfdz = 3\n"
     ]
    }
   ],
   "source": [
    "# 4\n",
    "# set some inputs\n",
    "x = -2; y = 5; z = -4\n",
    "\n",
    "# perform the forward pass\n",
    "q = x + y # q becomes 3\n",
    "f = q * z # f becomes -12\n",
    "\n",
    "# perform the backward pass (backpropagation) in reverse order:\n",
    "# first backprop through f = q * z\n",
    "dfdz = q # df/dz = q, so gradient on z becomes 3\n",
    "dfdq = z # df/dq = z, so gradient on q becomes -4\n",
    "dqdx = 1.0\n",
    "dqdy = 1.0\n",
    "# now backprop through q = x + y\n",
    "dfdx = dfdq * dqdx  # The multiplication here is the chain rule!\n",
    "dfdy = dfdq * dqdy  \n",
    "\n",
    "print('q =', q)\n",
    "print('f =', f)\n",
    "print('dfdq =', dfdq)\n",
    "print('dfdx =', dfdx)\n",
    "print('dfdy =', dfdy)\n",
    "print('dfdz =', dfdz)"
   ]
  },
  {
   "cell_type": "code",
   "execution_count": 10,
   "metadata": {},
   "outputs": [],
   "source": [
    "# 5\n",
    "import math\n",
    "w = [2,-3,-3] # assume some random weights and data\n",
    "x = [-1, -2]\n",
    "\n",
    "# forward pass\n",
    "dot = w[0]*x[0] + w[1]*x[1] + w[2]\n",
    "f = 1.0 / (1 + math.exp(-dot)) # sigmoid function\n",
    "\n",
    "# backward pass through the neuron (backpropagation)\n",
    "ddot = (1 - f) * f # gradient on dot variable, using the sigmoid gradient derivation\n",
    "dx = [w[0] * ddot, w[1] * ddot] # backprop into x\n",
    "dw = [x[0] * ddot, x[1] * ddot, 1.0 * ddot] # backprop into w\n",
    "# we're done! we have the gradients on the inputs to the circuit"
   ]
  },
  {
   "cell_type": "markdown",
   "metadata": {},
   "source": [
    "202101544 마영준"
   ]
  }
 ],
 "metadata": {
  "kernelspec": {
   "display_name": "Python 3",
   "language": "python",
   "name": "python3"
  },
  "language_info": {
   "codemirror_mode": {
    "name": "ipython",
    "version": 3
   },
   "file_extension": ".py",
   "mimetype": "text/x-python",
   "name": "python",
   "nbconvert_exporter": "python",
   "pygments_lexer": "ipython3",
   "version": "3.8.5"
  }
 },
 "nbformat": 4,
 "nbformat_minor": 4
}
