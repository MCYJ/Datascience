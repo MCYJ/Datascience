{
 "cells": [
  {
   "cell_type": "markdown",
   "metadata": {},
   "source": [
    "202101544 마영준"
   ]
  },
  {
   "cell_type": "code",
   "execution_count": 4,
   "metadata": {},
   "outputs": [],
   "source": [
    "def sum_of_squares(v):\t# linear_algebra.py 코드에서 임포트 하는 대신 여기에 코딩\n",
    "    \"\"\"v_1 * v_1 + … + v_n * v_n\"\"\"\n",
    "    return dot(v, v)\n",
    "\n",
    "def dot(v, w): # linear_algebra.py 코드에서 임포트 하는 대신 여기에 코딩\n",
    "    \"\"\"v_1 * w_1 + … + v_n * w_n\"\"\"\n",
    "    return sum(v_i * w_i for v_i, w_i in zip(v, w))\n",
    "\n",
    "from IPython.core.interactiveshell import InteractiveShell \n",
    "InteractiveShell.ast_node_interactivity = \"all\"\n",
    "\n",
    "from collections import Counter\n",
    "#from linear_algebra import sum_of_squares, dot # linear_algebra.py 코드에서 임포트\n",
    "import math\n",
    "import numpy as np\n"
   ]
  },
  {
   "cell_type": "code",
   "execution_count": 6,
   "metadata": {},
   "outputs": [
    {
     "name": "stdout",
     "output_type": "stream",
     "text": [
      "Populating the interactive namespace from numpy and matplotlib\n"
     ]
    },
    {
     "data": {
      "image/png": "[encoded data removed]",
      "text/plain": [
       "<Figure size 432x288 with 1 Axes>"
      ]
     },
     "metadata": {
      "needs_background": "light"
     },
     "output_type": "display_data"
    }
   ],
   "source": [
    "# 1.친구수 히스토그램 Friend Counts Histogram\n",
    "num_friends = [100,49,41,40,25,21,21,19,19,18,18,16,15,15,15,15,14,14,13,13,13,13,12,12,11,10,10,10,10,10,10,10,10,10,10,10,10,10,10,10,9,9,9,9,9,9,9,9,9,9,9,9,9,9,9,9,9,9,8,8,8,8,8,8,8,8,8,8,8,8,8,7,7,7,7,7,7,7,7,7,7,7,7,7,7,7,6,6,6,6,6,6,6,6,6,6,6,6,6,6,6,6,6,6,6,6,6,6,5,5,5,5,5,5,5,5,5,5,5,5,5,5,5,5,5,4,4,4,4,4,4,4,4,4,4,4,4,4,4,4,4,4,4,4,4,3,3,3,3,3,3,3,3,3,3,3,3,3,3,3,3,3,3,3,3,2,2,2,2,2,2,2,2,2,2,2,2,2,2,2,2,2,1,1,1,1,1,1,1,1,1,1,1,1,1,1,1,1,1,1,1,1,1,1]\n",
    "\n",
    "def make_friend_counts_histogram(plt):\n",
    "    friend_counts = Counter(num_friends)\n",
    "    xs = range(101)\n",
    "    ys = [friend_counts[x] for x in xs]\n",
    "    plt.bar(xs, ys)\n",
    "    plt.axis([0,101,0,25])\n",
    "    plt.title(\"Histogram of Friend Counts\")\n",
    "    plt.xlabel(\"# of friends\")\n",
    "    plt.ylabel(\"# of people\")\n",
    "    plt.show()\n",
    "\n",
    "import matplotlib.pyplot as plt\n",
    "%pylab inline\n",
    "\n",
    "make_friend_counts_histogram(plt)"
   ]
  },
  {
   "cell_type": "code",
   "execution_count": 7,
   "metadata": {},
   "outputs": [
    {
     "name": "stdout",
     "output_type": "stream",
     "text": [
      "204\n",
      "100\n",
      "1\n",
      "[1, 1, 1, 1, 1, 1, 1, 1, 1, 1, 1, 1, 1, 1, 1, 1, 1, 1, 1, 1, 1, 1, 2, 2, 2, 2, 2, 2, 2, 2, 2, 2, 2, 2, 2, 2, 2, 2, 2, 3, 3, 3, 3, 3, 3, 3, 3, 3, 3, 3, 3, 3, 3, 3, 3, 3, 3, 3, 3, 4, 4, 4, 4, 4, 4, 4, 4, 4, 4, 4, 4, 4, 4, 4, 4, 4, 4, 4, 4, 5, 5, 5, 5, 5, 5, 5, 5, 5, 5, 5, 5, 5, 5, 5, 5, 5, 6, 6, 6, 6, 6, 6, 6, 6, 6, 6, 6, 6, 6, 6, 6, 6, 6, 6, 6, 6, 6, 6, 7, 7, 7, 7, 7, 7, 7, 7, 7, 7, 7, 7, 7, 7, 7, 8, 8, 8, 8, 8, 8, 8, 8, 8, 8, 8, 8, 8, 9, 9, 9, 9, 9, 9, 9, 9, 9, 9, 9, 9, 9, 9, 9, 9, 9, 9, 10, 10, 10, 10, 10, 10, 10, 10, 10, 10, 10, 10, 10, 10, 10, 11, 12, 12, 13, 13, 13, 13, 14, 14, 15, 15, 15, 15, 16, 18, 18, 19, 19, 21, 21, 25, 40, 41, 49, 100]\n",
      "1\n",
      "1\n",
      "49\n"
     ]
    }
   ],
   "source": [
    "# 2.기본 통계치 Basic Statistics\n",
    "num_points = len(num_friends)                   # 204\n",
    "largest_value = max(num_friends)               # 100\n",
    "smallest_value = min(num_friends)              # 1\n",
    "sorted_values = sorted(num_friends)\n",
    "smallest_value = sorted_values[0]                # 1\n",
    "second_smallest_value = sorted_values[1]    # 1\n",
    "second_largest_value = sorted_values[-2]    # 49\n",
    "\n",
    "print(num_points)\n",
    "print(largest_value)\n",
    "print(smallest_value)\n",
    "print(sorted_values)\n",
    "print(smallest_value)\n",
    "print(second_smallest_value)\n",
    "print(second_largest_value)"
   ]
  },
  {
   "cell_type": "code",
   "execution_count": 8,
   "metadata": {},
   "outputs": [
    {
     "data": {
      "text/plain": [
       "7.333333333333333"
      ]
     },
     "execution_count": 8,
     "metadata": {},
     "output_type": "execute_result"
    },
    {
     "data": {
      "text/plain": [
       "7.333333333333333"
      ]
     },
     "execution_count": 8,
     "metadata": {},
     "output_type": "execute_result"
    }
   ],
   "source": [
    "# 3.중심 경향성 : 평균 Central Tendencies : Average\n",
    "def mean(x): \n",
    "    return sum(x) / len(x)\n",
    "\n",
    "mean(num_friends)\n",
    "\n",
    "# Numpy version\n",
    "np.mean(num_friends)"
   ]
  },
  {
   "cell_type": "code",
   "execution_count": 9,
   "metadata": {},
   "outputs": [
    {
     "data": {
      "text/plain": [
       "6.0"
      ]
     },
     "execution_count": 9,
     "metadata": {},
     "output_type": "execute_result"
    },
    {
     "data": {
      "text/plain": [
       "6.0"
      ]
     },
     "execution_count": 9,
     "metadata": {},
     "output_type": "execute_result"
    }
   ],
   "source": [
    "# 4.중심 경향성 : 중앙값 Median\n",
    "# 데이터의 중앙에 있는 값(홀수) 또는 중앙에 있는 두 값의 평균(짝수)\n",
    "def median(v):\n",
    "    \"\"\"finds the 'middle-most' value of v\"\"\"\n",
    "    n = len(v)\n",
    "    sorted_v = sorted(v)\n",
    "    midpoint = n // 2\n",
    "    \n",
    "    if n % 2 == 1:\n",
    "        # if odd, return the middle value\n",
    "        return sorted_v[midpoint]\n",
    "    else:\n",
    "        # if even, return the average of the middle values\n",
    "        lo = midpoint - 1\n",
    "        hi = midpoint\n",
    "        return (sorted_v[lo] + sorted_v[hi]) / 2\n",
    "    \n",
    "median(num_friends)\n",
    "\n",
    "# Numpy version\n",
    "np.median(num_friends)"
   ]
  },
  {
   "cell_type": "code",
   "execution_count": 10,
   "metadata": {},
   "outputs": [
    {
     "name": "stdout",
     "output_type": "stream",
     "text": [
      "0.00 Percentage value 1\n",
      "0.25 Percentage value 3\n",
      "0.50 Percentage value 6\n",
      "0.75 Percentage value 9\n"
     ]
    },
    {
     "data": {
      "text/plain": [
       "array([1., 3., 6., 9.])"
      ]
     },
     "execution_count": 10,
     "metadata": {},
     "output_type": "execute_result"
    }
   ],
   "source": [
    "# 5.분위 Quantile\n",
    "def quantile(x, p):\n",
    "    \"\"\"returns the pth-percentile value in x\"\"\"\n",
    "    p_index = int(p * len(x))\n",
    "    return sorted(x)[p_index]\n",
    "\n",
    "for i in range(0, 100, 25):\n",
    "    print(\"%.2f Percentage value\" % (i*0.01) , quantile(num_friends, i * 0.01))\n",
    "\n",
    "# Numpy version\n",
    "np.percentile(num_friends, [i for i in range(0,100,25)])"
   ]
  },
  {
   "cell_type": "code",
   "execution_count": 11,
   "metadata": {},
   "outputs": [
    {
     "data": {
      "text/plain": [
       "[6, 1]"
      ]
     },
     "execution_count": 11,
     "metadata": {},
     "output_type": "execute_result"
    }
   ],
   "source": [
    "# 6.최빈값 Mode\n",
    "def mode(x):\n",
    "    \"\"\"returns a list, might be more than one mode\"\"\"\n",
    "    counts = Counter(x)\n",
    "    max_count = max(counts.values())\n",
    "    return [x_i for x_i, count in counts.items()\n",
    "            if count == max_count]\n",
    "\n",
    "mode(num_friends)"
   ]
  },
  {
   "cell_type": "code",
   "execution_count": 12,
   "metadata": {},
   "outputs": [
    {
     "data": {
      "text/plain": [
       "99"
      ]
     },
     "execution_count": 12,
     "metadata": {},
     "output_type": "execute_result"
    },
    {
     "data": {
      "text/plain": [
       "99"
      ]
     },
     "execution_count": 12,
     "metadata": {},
     "output_type": "execute_result"
    }
   ],
   "source": [
    "# 7.산포도 : 범위 Dispersion : Range\n",
    "# \"range\" already means something in Python, so we'll use a different name\n",
    "def data_range(x):\n",
    "    return max(x) - min(x)\n",
    "\n",
    "data_range(num_friends)\n",
    "\n",
    "np.max(num_friends) - np.min(num_friends)"
   ]
  },
  {
   "cell_type": "code",
   "execution_count": 13,
   "metadata": {},
   "outputs": [
    {
     "data": {
      "text/plain": [
       "81.54351395730706"
      ]
     },
     "execution_count": 13,
     "metadata": {},
     "output_type": "execute_result"
    },
    {
     "name": "stdout",
     "output_type": "stream",
     "text": [
      "120 µs ± 3.79 µs per loop (mean ± std. dev. of 7 runs, 10000 loops each)\n",
      "27.5 µs ± 674 ns per loop (mean ± std. dev. of 7 runs, 10000 loops each)\n"
     ]
    }
   ],
   "source": [
    "# 8.분산 Variance\n",
    "# Mean - value\n",
    "\n",
    "def de_mean(x):\n",
    "    \"\"\"translate x by subtracting its mean (so the result has mean 0)\"\"\"\n",
    "    x_bar = mean(x)\n",
    "    return [x_i - x_bar for x_i in x]\n",
    "\n",
    "def variance(x):\n",
    "    \"\"\"assumes x has at least two elements\"\"\"\n",
    "    n = len(x)\n",
    "    deviations = de_mean(x)\n",
    "    return sum_of_squares(deviations) / (n - 1)\n",
    "\n",
    "variance(num_friends)\n",
    "\n",
    "%timeit variance(num_friends) \n",
    "%timeit np.var(num_friends) # 일반적인 분산 연산도 numpy가 빠름"
   ]
  },
  {
   "cell_type": "code",
   "execution_count": 14,
   "metadata": {},
   "outputs": [
    {
     "data": {
      "text/plain": [
       "9.030144736232474"
      ]
     },
     "execution_count": 14,
     "metadata": {},
     "output_type": "execute_result"
    },
    {
     "data": {
      "text/plain": [
       "9.007984838446012"
      ]
     },
     "execution_count": 14,
     "metadata": {},
     "output_type": "execute_result"
    },
    {
     "data": {
      "text/plain": [
       "6"
      ]
     },
     "execution_count": 14,
     "metadata": {},
     "output_type": "execute_result"
    }
   ],
   "source": [
    "# 9.표준편차와 사분위간 분위 Standard Deviation and Interquantile Range\n",
    "def standard_deviation(x):\n",
    "    return math.sqrt(variance(x))\n",
    "\n",
    "standard_deviation(num_friends)\n",
    "\n",
    "np.std(num_friends, dtype=np.float64) \n",
    "\n",
    "def interquartile_range(x):\n",
    "    return quantile(x, 0.75) - quantile(x, 0.25)\n",
    "\n",
    "interquartile_range(num_friends)"
   ]
  },
  {
   "cell_type": "code",
   "execution_count": 15,
   "metadata": {},
   "outputs": [
    {
     "data": {
      "text/plain": [
       "22.42543513957307"
      ]
     },
     "execution_count": 15,
     "metadata": {},
     "output_type": "execute_result"
    },
    {
     "data": {
      "text/plain": [
       "array([[ 81.54351396,  22.42543514],\n",
       "       [ 22.42543514, 100.78589895]])"
      ]
     },
     "execution_count": 15,
     "metadata": {},
     "output_type": "execute_result"
    }
   ],
   "source": [
    "# 10.공분산 Covariance\n",
    "daily_minutes = [1,68.77,51.25,52.08,38.36,44.54,57.13,51.4,41.42,31.22,34.76,54.01,38.79,47.59,49.1,27.66,41.03,36.73,48.65,28.12,46.62,35.57,32.98,35,26.07,23.77,39.73,40.57,31.65,31.21,36.32,20.45,21.93,26.02,27.34,23.49,46.94,30.5,33.8,24.23,21.4,27.94,32.24,40.57,25.07,19.42,22.39,18.42,46.96,23.72,26.41,26.97,36.76,40.32,35.02,29.47,30.2,31,38.11,38.18,36.31,21.03,30.86,36.07,28.66,29.08,37.28,15.28,24.17,22.31,30.17,25.53,19.85,35.37,44.6,17.23,13.47,26.33,35.02,32.09,24.81,19.33,28.77,24.26,31.98,25.73,24.86,16.28,34.51,15.23,39.72,40.8,26.06,35.76,34.76,16.13,44.04,18.03,19.65,32.62,35.59,39.43,14.18,35.24,40.13,41.82,35.45,36.07,43.67,24.61,20.9,21.9,18.79,27.61,27.21,26.61,29.77,20.59,27.53,13.82,33.2,25,33.1,36.65,18.63,14.87,22.2,36.81,25.53,24.62,26.25,18.21,28.08,19.42,29.79,32.8,35.99,28.32,27.79,35.88,29.06,36.28,14.1,36.63,37.49,26.9,18.58,38.48,24.48,18.95,33.55,14.24,29.04,32.51,25.63,22.22,19,32.73,15.16,13.9,27.2,32.01,29.27,33,13.74,20.42,27.32,18.23,35.35,28.48,9.08,24.62,20.12,35.26,19.92,31.02,16.49,12.16,30.7,31.22,34.65,13.13,27.51,33.2,31.57,14.1,33.42,17.44,10.12,24.42,9.82,23.39,30.93,15.03,21.67,31.09,33.29,22.61,26.89,23.48,8.38,27.81,32.35,23.84]\n",
    "\n",
    "def covariance(x, y):\n",
    "    n = len(x)\n",
    "    return dot(de_mean(x), de_mean(y)) / (n - 1)\n",
    "\n",
    "covariance(num_friends, daily_minutes)\n",
    "\n",
    "np.cov(num_friends,daily_minutes)"
   ]
  },
  {
   "cell_type": "code",
   "execution_count": 16,
   "metadata": {},
   "outputs": [
    {
     "data": {
      "text/plain": [
       "0.2473695736647823"
      ]
     },
     "execution_count": 16,
     "metadata": {},
     "output_type": "execute_result"
    },
    {
     "data": {
      "text/plain": [
       "array([[1.        , 0.24736957],\n",
       "       [0.24736957, 1.        ]])"
      ]
     },
     "execution_count": 16,
     "metadata": {},
     "output_type": "execute_result"
    },
    {
     "data": {
      "text/plain": [
       "[<matplotlib.lines.Line2D at 0x2827d923220>]"
      ]
     },
     "execution_count": 16,
     "metadata": {},
     "output_type": "execute_result"
    },
    {
     "data": {
      "text/plain": [
       "(0.0, 110.0, 0.0, 78.77)"
      ]
     },
     "execution_count": 16,
     "metadata": {},
     "output_type": "execute_result"
    },
    {
     "data": {
      "image/png": "[encoded data removed]",
      "text/plain": [
       "<Figure size 432x288 with 1 Axes>"
      ]
     },
     "metadata": {
      "needs_background": "light"
     },
     "output_type": "display_data"
    }
   ],
   "source": [
    "# 11.상관관계 Correlation\n",
    "def correlation(x, y):\n",
    "    stdev_x = standard_deviation(x)\n",
    "    stdev_y = standard_deviation(y)\n",
    "    if stdev_x > 0 and stdev_y > 0:\n",
    "        return covariance(x, y) / stdev_x / stdev_y\n",
    "    else:\n",
    "        return 0 # if no variation, correlation is zero\n",
    "    \n",
    "correlation(num_friends, daily_minutes)\n",
    "\n",
    "np.corrcoef(num_friends, daily_minutes)\n",
    "\n",
    "plt.plot(num_friends, daily_minutes, 'ro')\n",
    "plt.axis([0,max(num_friends)+10,0,max(daily_minutes) +10 ])\n",
    "plt.show()"
   ]
  },
  {
   "cell_type": "code",
   "execution_count": 17,
   "metadata": {},
   "outputs": [
    {
     "data": {
      "text/plain": [
       "[<matplotlib.lines.Line2D at 0x2827ddd5c70>]"
      ]
     },
     "execution_count": 17,
     "metadata": {},
     "output_type": "execute_result"
    },
    {
     "data": {
      "text/plain": [
       "(0.0, 59.0, 0.0, 78.77)"
      ]
     },
     "execution_count": 17,
     "metadata": {},
     "output_type": "execute_result"
    },
    {
     "data": {
      "image/png": "[encoded data removed]",
      "text/plain": [
       "<Figure size 432x288 with 1 Axes>"
      ]
     },
     "metadata": {
      "needs_background": "light"
     },
     "output_type": "display_data"
    }
   ],
   "source": [
    "# 12.이상치를 제거한 상관관계\n",
    "outlier = num_friends.index(100) # index of outlier\n",
    "\n",
    "num_friends_good = [x \n",
    "                    for i, x in enumerate(num_friends) \n",
    "                    if i != outlier]\n",
    "\n",
    "daily_minutes_good = [x \n",
    "                      for i, x in enumerate(daily_minutes) \n",
    "                      if i != outlier]\n",
    "\n",
    "plt.plot(num_friends_good, daily_minutes_good, 'ro')\n",
    "plt.axis([0,max(num_friends_good)+10,0,max(daily_minutes_good) +10 ])\n",
    "plt.show()"
   ]
  },
  {
   "cell_type": "markdown",
   "metadata": {},
   "source": [
    "Lab6 - 2"
   ]
  },
  {
   "cell_type": "code",
   "execution_count": 34,
   "metadata": {},
   "outputs": [
    {
     "data": {
      "text/plain": [
       "<matplotlib.collections.PathCollection at 0x2827ddc81c0>"
      ]
     },
     "execution_count": 34,
     "metadata": {},
     "output_type": "execute_result"
    },
    {
     "data": {
      "text/plain": [
       "<matplotlib.collections.PathCollection at 0x2827dded940>"
      ]
     },
     "execution_count": 34,
     "metadata": {},
     "output_type": "execute_result"
    },
    {
     "data": {
      "text/plain": [
       "Text(0.5, 1.0, 'Height-Weight Plotting by Youngjun Ma 202101544')"
      ]
     },
     "execution_count": 34,
     "metadata": {},
     "output_type": "execute_result"
    },
    {
     "data": {
      "text/plain": [
       "<matplotlib.legend.Legend at 0x2827dde2a00>"
      ]
     },
     "execution_count": 34,
     "metadata": {},
     "output_type": "execute_result"
    },
    {
     "data": {
      "text/plain": [
       "Text(0.5, 0, 'Height in inches')"
      ]
     },
     "execution_count": 34,
     "metadata": {},
     "output_type": "execute_result"
    },
    {
     "data": {
      "text/plain": [
       "Text(0, 0.5, 'Weight in Lbs.')"
      ]
     },
     "execution_count": 34,
     "metadata": {},
     "output_type": "execute_result"
    },
    {
     "data": {
      "image/png": "[encoded data removed]",
      "text/plain": [
       "<Figure size 432x288 with 1 Axes>"
      ]
     },
     "metadata": {
      "needs_background": "light"
     },
     "output_type": "display_data"
    }
   ],
   "source": [
    "import numpy as np\n",
    "import pandas as pd\n",
    "import matplotlib.pyplot as plt\n",
    "# 1.원 데이터 시각화 original data plotting\n",
    "# csv data 입력\n",
    "tot_df = pd.read_csv('height-weight.csv')\n",
    "male_df = tot_df[tot_df['Gender']=='Male']\n",
    "female_df = tot_df[tot_df['Gender']=='Female']\n",
    "# male/female별 dataframe 생성\n",
    "plt.scatter(male_df['Height'], male_df['Weight'], c='g', label='Male')\n",
    "plt.scatter(female_df['Height'], female_df['Weight'], c='r', label='Female')\n",
    "# title 입력\n",
    "plt.title('Height-Weight Plotting by Youngjun Ma 202101544')\n",
    "# legend 입력\n",
    "plt.legend()\n",
    "# x축 label 입력\n",
    "plt.xlabel('Height in inches')\n",
    "# y축 label 입력\n",
    "plt.ylabel('Weight in Lbs.')"
   ]
  },
  {
   "cell_type": "code",
   "execution_count": 80,
   "metadata": {},
   "outputs": [
    {
     "name": "stdout",
     "output_type": "stream",
     "text": [
      "남성의 평균 Height : 69.02634590621737\n",
      "남성의 평균 Weight : 187.0206206581929\n",
      "여성의 평균 Height : 63.708773603424916\n",
      "여성의 평균 Weight : 135.8600930074687\n"
     ]
    }
   ],
   "source": [
    "# 2.평균 mean\n",
    "male_mean = male_df.mean(axis=0)\n",
    "female_mean = female_df.mean(axis=0)\n",
    "print('남성의 평균 Height :',male_mean['Height'])\n",
    "print('남성의 평균 Weight :',male_mean['Weight'])\n",
    "print('여성의 평균 Height :',female_mean['Height'])\n",
    "print('여성의 평균 Weight :',female_mean['Weight'])"
   ]
  },
  {
   "cell_type": "code",
   "execution_count": 81,
   "metadata": {},
   "outputs": [
    {
     "name": "stdout",
     "output_type": "stream",
     "text": [
      "남성의 중앙 Height : 69.02770850939555\n",
      "남성의 중앙 Weight : 187.033546088862\n",
      "여성의 중앙 Height : 63.7309238591475\n",
      "여성의 중앙 Weight : 136.11758297008498\n"
     ]
    }
   ],
   "source": [
    "# 3.중앙값 median\n",
    "male_median = male_df.median(axis=0)\n",
    "female_median = female_df.median(axis=0)\n",
    "print('남성의 중앙 Height :',male_median['Height'])\n",
    "print('남성의 중앙 Weight :',male_median['Weight'])\n",
    "print('여성의 중앙 Height :',female_median['Height'])\n",
    "print('여성의 중앙 Weight :',female_median['Weight'])"
   ]
  },
  {
   "cell_type": "code",
   "execution_count": 82,
   "metadata": {},
   "outputs": [
    {
     "name": "stdout",
     "output_type": "stream",
     "text": [
      "남성의 Height 25% : 67.17467906915428\n",
      "남성의 Weight 25% : 173.887767334218\n",
      "남성의 Height 50% : 69.02770850939555\n",
      "남성의 Weight 50% : 187.033546088862\n",
      "남성의 Height 75% : 70.98874363403955\n",
      "남성의 Weight 75% : 200.35780180200078\n",
      "여성의 Height 25% : 61.89444148832923\n",
      "여성의 Weight 25% : 122.93409617498699\n",
      "여성의 Height 50% : 63.7309238591475\n",
      "여성의 Weight 50% : 136.11758297008498\n",
      "여성의 Height 75% : 65.5635651830946\n",
      "여성의 Weight 75% : 148.8109262605865\n"
     ]
    }
   ],
   "source": [
    "# 4.분위 quantile\n",
    "# 25% 값\n",
    "male_quantile_25 = male_df.quantile(q=0.25,axis=0)\n",
    "female_quantile_25 = female_df.quantile(q=0.25,axis=0)\n",
    "# 50% 값\n",
    "male_quantile_50 = male_df.quantile(q=0.5,axis=0)\n",
    "female_quantile_50 = female_df.quantile(q=0.5,axis=0)\n",
    "# 75% 값\n",
    "male_quantile_75 = male_df.quantile(q=0.75,axis=0)\n",
    "female_quantile_75 = female_df.quantile(q=0.75,axis=0)\n",
    "print(\"남성의 Height 25% :\",male_quantile_25['Height'])\n",
    "print(\"남성의 Weight 25% :\",male_quantile_25['Weight'])\n",
    "print(\"남성의 Height 50% :\",male_quantile_50['Height'])\n",
    "print(\"남성의 Weight 50% :\",male_quantile_50['Weight'])\n",
    "print(\"남성의 Height 75% :\",male_quantile_75['Height'])\n",
    "print(\"남성의 Weight 75% :\",male_quantile_75['Weight'])\n",
    "\n",
    "print(\"여성의 Height 25% :\",female_quantile_25['Height'])\n",
    "print(\"여성의 Weight 25% :\",female_quantile_25['Weight'])\n",
    "print(\"여성의 Height 50% :\",female_quantile_50['Height'])\n",
    "print(\"여성의 Weight 50% :\",female_quantile_50['Weight'])\n",
    "print(\"여성의 Height 75% :\",female_quantile_75['Height'])\n",
    "print(\"여성의 Weight 75% :\",female_quantile_75['Weight'])"
   ]
  },
  {
   "cell_type": "code",
   "execution_count": 95,
   "metadata": {},
   "outputs": [
    {
     "name": "stdout",
     "output_type": "stream",
     "text": [
      "남성의 최빈 Height : 0    69\n",
      "Name: Height, dtype: int64\n",
      "남성의 최빈 Weight : 0    192\n",
      "Name: Weight, dtype: int64\n",
      "여성의 최빈 Height : 0    63\n",
      "Name: Height, dtype: int64\n",
      "여성의 최빈 Weight : 0    137\n",
      "Name: Weight, dtype: int64\n"
     ]
    }
   ],
   "source": [
    "# 5.최빈값 mode (키와 몸무게를 integer 형으로 바꿔서 계산)\n",
    "# Weight와 Height를 int64로 type 변경\n",
    "male_df_int = male_df.astype({'Weight':'int64','Height':'int64'})\n",
    "female_df_int = female_df.astype({'Weight':'int64','Height':'int64'})\n",
    "\n",
    "# 최빈값 계산, numeric_only 속성을 True로 설정\n",
    "male_mode = male_df_int.mode(axis=0, numeric_only=True)\n",
    "female_mode = female_df_int.mode(axis=0, numeric_only=True)\n",
    "\n",
    "print('남성의 최빈 Height :', male_mode['Height'])\n",
    "print('남성의 최빈 Weight :', male_mode['Weight'])\n",
    "print('여성의 최빈 Height :', female_mode['Height'])\n",
    "print('여성의 최빈 Weight :', female_mode['Weight'])"
   ]
  },
  {
   "cell_type": "code",
   "execution_count": 96,
   "metadata": {},
   "outputs": [
    {
     "name": "stdout",
     "output_type": "stream",
     "text": [
      "남성의 Height range : 20.59183741463979\n",
      "남성의 Weight range : 157.086759057288\n",
      "여성의 Height range : 19.126452540972608\n",
      "여성의 Weight range : 137.53708702680598\n"
     ]
    }
   ],
   "source": [
    "# 6.산포도 data range\n",
    "male_height_range = male_df.max(axis=0, numeric_only=True)['Height'] - male_df.min(axis=0, numeric_only=True)['Height']\n",
    "male_weight_range = male_df.max(axis=0, numeric_only=True)['Weight'] - male_df.min(axis=0, numeric_only=True)['Weight']\n",
    "female_height_range = female_df.max(axis=0, numeric_only=True)['Height'] - female_df.min(axis=0, numeric_only=True)['Height']\n",
    "female_weight_range = female_df.max(axis=0, numeric_only=True)['Weight'] - female_df.min(axis=0, numeric_only=True)['Weight']\n",
    "\n",
    "print('남성의 Height range :',male_height_range)\n",
    "print('남성의 Weight range :',male_weight_range)\n",
    "print('여성의 Height range :',female_height_range)\n",
    "print('여성의 Weight range :',female_weight_range)"
   ]
  },
  {
   "cell_type": "code",
   "execution_count": 98,
   "metadata": {},
   "outputs": [
    {
     "name": "stdout",
     "output_type": "stream",
     "text": [
      "남성의 Height variance : 8.198843252520494\n",
      "남성의 Weight variance : 391.2940740160854\n",
      "여성의 Height variance : 7.269947493670135\n",
      "여성의 Weight variance : 361.8542814043981\n"
     ]
    }
   ],
   "source": [
    "# 7.분산 variance\n",
    "male_var = male_df.var(axis=0)\n",
    "female_var = female_df.var(axis=0)\n",
    "\n",
    "print('남성의 Height variance :',male_var['Height'])\n",
    "print('남성의 Weight variance :',male_var['Weight'])\n",
    "print('여성의 Height variance :',female_var['Height'])\n",
    "print('여성의 Weight variance :',female_var['Weight'])"
   ]
  },
  {
   "cell_type": "code",
   "execution_count": 100,
   "metadata": {},
   "outputs": [
    {
     "name": "stdout",
     "output_type": "stream",
     "text": [
      "남성의 Height standard deviation : 2.8633622286606517\n",
      "남성의 Weight standard deviation : 19.781154516763813\n",
      "여성의 Height standard deviation : 2.696284015765056\n",
      "여성의 Weight standard deviation : 19.022467805319007\n"
     ]
    }
   ],
   "source": [
    "# 8.표준편차 standard deviation\n",
    "male_std = male_df.std(axis=0)\n",
    "female_std = female_df.std(axis=0)\n",
    "\n",
    "print(\"남성의 Height standard deviation :\",male_std['Height'])\n",
    "print(\"남성의 Weight standard deviation :\",male_std['Weight'])\n",
    "print(\"여성의 Height standard deviation :\",female_std['Height'])\n",
    "print(\"여성의 Weight standard deviation :\",female_std['Weight'])"
   ]
  },
  {
   "cell_type": "code",
   "execution_count": 109,
   "metadata": {},
   "outputs": [
    {
     "name": "stdout",
     "output_type": "stream",
     "text": [
      "남성의 covariance :\n",
      "            Height      Weight\n",
      "Height   8.198843   48.879649\n",
      "Weight  48.879649  391.294074\n",
      "\n",
      "여성의 covariance :\n",
      "            Height      Weight\n",
      "Height   7.269947   43.576404\n",
      "Weight  43.576404  361.854281\n"
     ]
    }
   ],
   "source": [
    "# 9.공분산 covariance\n",
    "male_cov = male_df.cov()\n",
    "female_cov = female_df.cov()\n",
    "print(\"남성의 covariance :\\n\",male_cov)\n",
    "print()\n",
    "print(\"여성의 covariance :\\n\",female_cov)"
   ]
  },
  {
   "cell_type": "code",
   "execution_count": 114,
   "metadata": {},
   "outputs": [
    {
     "name": "stdout",
     "output_type": "stream",
     "text": [
      "남성의 correlation :\n",
      "           Height    Weight\n",
      "Height  1.000000  0.862979\n",
      "Weight  0.862979  1.000000\n",
      "\n",
      "여성의 correlation :\n",
      "           Height    Weight\n",
      "Height  1.000000  0.849609\n",
      "Weight  0.849609  1.000000\n"
     ]
    }
   ],
   "source": [
    "# 10.상관관계 correlation\n",
    "male_corr = male_df.corr()\n",
    "female_corr = female_df.corr()\n",
    "print(\"남성의 correlation :\\n\",male_corr)\n",
    "print()\n",
    "print(\"여성의 correlation :\\n\",female_corr)"
   ]
  },
  {
   "cell_type": "markdown",
   "metadata": {},
   "source": [
    "202101544 마영준"
   ]
  }
 ],
 "metadata": {
  "kernelspec": {
   "display_name": "Python 3",
   "language": "python",
   "name": "python3"
  },
  "language_info": {
   "codemirror_mode": {
    "name": "ipython",
    "version": 3
   },
   "file_extension": ".py",
   "mimetype": "text/x-python",
   "name": "python",
   "nbconvert_exporter": "python",
   "pygments_lexer": "ipython3",
   "version": "3.8.5"
  }
 },
 "nbformat": 4,
 "nbformat_minor": 4
}
