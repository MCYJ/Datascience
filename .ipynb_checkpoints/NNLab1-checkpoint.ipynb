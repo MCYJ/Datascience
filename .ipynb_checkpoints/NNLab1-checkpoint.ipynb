{
 "cells": [
  {
   "cell_type": "markdown",
   "metadata": {},
   "source": [
    "202101544 마영준"
   ]
  },
  {
   "cell_type": "code",
   "execution_count": 7,
   "metadata": {
    "scrolled": true
   },
   "outputs": [
    {
     "name": "stdout",
     "output_type": "stream",
     "text": [
      "333 forward propagation의 결과값\n",
      "OUTPUT1 : 0.7263033450139793\n",
      "OUTPUT2 : 0.7085980724248232\n",
      "OUTPUT3 : 0.778097059561142\n"
     ]
    }
   ],
   "source": [
    "import numpy as np\n",
    "\n",
    "# 1 333 신경망 Forward propagation\n",
    "# input -> hidden 가중치\n",
    "w_input_hidden = np.array([[0.9, 0.3, 0.4],[0.2, 0.8, 0.2],[0.1, 0.5, 0.6]])\n",
    "# hidden -> output 가중치\n",
    "w_hidden_output = np.array([[0.3, 0.7, 0.5],[0.6, 0.5, 0.2],[0.8, 0.1, 0.9]])\n",
    "\n",
    "# 입력값 할당\n",
    "i_input = np.array([0.9, 0.1, 0.8])\n",
    "\n",
    "# hidden layer의 입력값\n",
    "i_hidden = np.dot(w_input_hidden, i_input)\n",
    "\n",
    "# hidden layer의 출력값 (sigmoid 함수 적용)\n",
    "o_hidden = 1/(1+np.exp(-i_hidden))\n",
    "\n",
    "# hidden layer의 출력값과 hidden layer의 가중치를 곱함\n",
    "x_output = np.dot(w_hidden_output, o_hidden)\n",
    "\n",
    "# output layer의 출력값 (sigmoid 함수 적용)\n",
    "o_output = 1/(1+np.exp(-x_output))\n",
    "\n",
    "# 333 forward propagation의 결과값 출력\n",
    "print(\"333 forward propagation의 결과값\")\n",
    "print(\"OUTPUT1 :\", o_output[0])\n",
    "print(\"OUTPUT2 :\", o_output[1])\n",
    "print(\"OUTPUT3 :\", o_output[2])"
   ]
  },
  {
   "cell_type": "code",
   "execution_count": 8,
   "metadata": {},
   "outputs": [
    {
     "name": "stdout",
     "output_type": "stream",
     "text": [
      "은닉계층 오차 e1 : 0.42000000000000004\n",
      "은닉계층 오차 e2 : 0.8800000000000001\n",
      "입력계층 오차 e1 : 0.3620000000000001\n",
      "입력계층 오차 e2 : 0.9380000000000002\n"
     ]
    }
   ],
   "source": [
    "import numpy as np\n",
    "\n",
    "# 2 222 신경망 Backward propagation\n",
    "# 출력계층 오차선언\n",
    "e_out_1 = 0.8\n",
    "e_out_2 = 0.5\n",
    "\n",
    "# 은닉-출력 계측 가중치 선언\n",
    "w_hid_out_11 = 2.0\n",
    "w_hid_out_12 = 1.0\n",
    "w_hid_out_21 = 3.0\n",
    "w_hid_out_22 = 4.0\n",
    "\n",
    "# 은닉계층 오차계산\n",
    "e_hid_1 = e_out_1*w_hid_out_11/(w_hid_out_11+w_hid_out_21) + e_out_2*w_hid_out_12/(w_hid_out_12+w_hid_out_22)\n",
    "e_hid_2 = e_out_1*w_hid_out_21/(w_hid_out_11+w_hid_out_21) + e_out_2*w_hid_out_22/(w_hid_out_12+w_hid_out_22)\n",
    "\n",
    "# 은닉계층 오차출력\n",
    "print(\"은닉계층 오차 e1 :\", e_hid_1)\n",
    "print(\"은닉계층 오차 e2 :\", e_hid_2)\n",
    "\n",
    "# 입력-은닉 계측 가중치 선언\n",
    "w_in_hid_11 = 3.0\n",
    "w_in_hid_12 = 1.0\n",
    "w_in_hid_21 = 2.0\n",
    "w_in_hid_22 = 7.0\n",
    "\n",
    "# 입력계층 오차계산\n",
    "e_in_1 = e_hid_1*w_in_hid_11/(w_in_hid_11+w_in_hid_21) + e_hid_2*w_in_hid_12/(w_in_hid_12+w_in_hid_22)\n",
    "e_in_2 = e_hid_1*w_in_hid_21/(w_in_hid_11+w_in_hid_21) + e_hid_2*w_in_hid_22/(w_in_hid_12+w_in_hid_22)\n",
    "\n",
    "# 입력계층 오차출력\n",
    "print(\"입력계층 오차 e1 :\", e_in_1)\n",
    "print(\"입력계층 오차 e2 :\", e_in_2)"
   ]
  },
  {
   "cell_type": "code",
   "execution_count": 29,
   "metadata": {},
   "outputs": [
    {
     "name": "stdout",
     "output_type": "stream",
     "text": [
      "수정된 가중치 출력\n",
      "[[2.00265023 3.00190637]\n",
      " [1.00265023 4.00190637]]\n"
     ]
    }
   ],
   "source": [
    "import numpy as np\n",
    "\n",
    "# 3 222 신경망 Weight update\n",
    "\n",
    "err_out = np.array([0.8, 0.5])\n",
    "out = np.array([0.4, 0.5])\n",
    "w = np.array([[2.0,3.0],[1.0,4.0]])\n",
    "\n",
    "# sigmoid 함수 내의 합\n",
    "wo = np.dot(out,w.T) # 2.3 2.4\n",
    "\n",
    "# sigmoid 함수값\n",
    "sig = 1/(1+np.exp(-wo)) # 0.909 0.916\n",
    "\n",
    "# 변화량\n",
    "trans = -err_out*sig*(1-sig)*out\n",
    "\n",
    "# 학습률 x 변화량\n",
    "learning_rate = 0.1\n",
    "trans = learning_rate*trans\n",
    "\n",
    "# 수정된 가중치 출력\n",
    "print(\"수정된 가중치 출력\")\n",
    "print(w - trans)\n"
   ]
  },
  {
   "cell_type": "markdown",
   "metadata": {},
   "source": [
    "202101544 마영준"
   ]
  }
 ],
 "metadata": {
  "kernelspec": {
   "display_name": "Python 3",
   "language": "python",
   "name": "python3"
  },
  "language_info": {
   "codemirror_mode": {
    "name": "ipython",
    "version": 3
   },
   "file_extension": ".py",
   "mimetype": "text/x-python",
   "name": "python",
   "nbconvert_exporter": "python",
   "pygments_lexer": "ipython3",
   "version": "3.8.5"
  }
 },
 "nbformat": 4,
 "nbformat_minor": 4
}
