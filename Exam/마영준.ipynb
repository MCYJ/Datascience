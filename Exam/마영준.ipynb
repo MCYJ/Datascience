{
 "cells": [
  {
   "cell_type": "markdown",
   "metadata": {},
   "source": [
    "202101544 마영준"
   ]
  },
  {
   "cell_type": "code",
   "execution_count": 30,
   "metadata": {},
   "outputs": [],
   "source": [
    "from IPython.core.interactiveshell import InteractiveShell\n",
    "InteractiveShell.ast_node_interactivity = \"all\""
   ]
  },
  {
   "cell_type": "code",
   "execution_count": 8,
   "metadata": {},
   "outputs": [
    {
     "name": "stdout",
     "output_type": "stream",
     "text": [
      "[(0, 1), (0, 2), (0, 3), (0, 4), (1, 2), (1, 3), (1, 4), (2, 3), (2, 4), (3, 4)]\n"
     ]
    }
   ],
   "source": [
    "#1\n",
    "arr = []\n",
    "for i in range(4):\n",
    "    for j in range(i+1,5):\n",
    "        arr.append((i,j))\n",
    "print(arr)"
   ]
  },
  {
   "cell_type": "code",
   "execution_count": 50,
   "metadata": {},
   "outputs": [
    {
     "name": "stdout",
     "output_type": "stream",
     "text": [
      "3 3\n",
      "0 1\n",
      "1 1\n",
      "2 1\n",
      "excellent 2\n",
      "A 1\n",
      "I 1\n",
      "expert 1\n",
      "3\n",
      "excellent\n",
      "{'A': 1, 'I': 1, 'expert': 1, 'excellent': 2}\n"
     ]
    }
   ],
   "source": [
    "#2\n",
    "from collections import Counter\n",
    "\n",
    "c = Counter([0, 1, 2, 3, 3, 3])\n",
    "document = [\"A\", \"I\", \"expert\", \"excellent\", \"excellent\"]\n",
    "d_c = Counter(document)\n",
    "\n",
    "#(1)\n",
    "for word, count in c.most_common():\n",
    "    print(word,count)\n",
    "for word, count in d_c.most_common():\n",
    "    print(word,count)\n",
    "#(2)\n",
    "for word, count in c.most_common(1):\n",
    "    print(word)\n",
    "for word, count in d_c.most_common(1):\n",
    "    print(word)\n",
    "#(3)\n",
    "docdic = {}\n",
    "\n",
    "for data in d_c.keys():\n",
    "    docdic[data] = d_c[data]\n",
    "print(docdic)\n"
   ]
  },
  {
   "cell_type": "code",
   "execution_count": 22,
   "metadata": {},
   "outputs": [
    {
     "name": "stdout",
     "output_type": "stream",
     "text": [
      "[1, 2, 'string', 0.1, True, [4, 5], (6, 7), 3]\n",
      "[1, 2, 'string', 0.1, True, [4, 5], (6, 7), 3, 3]\n"
     ]
    }
   ],
   "source": [
    "#3\n",
    "integer_list = [1, 2]\n",
    "heterogeneous_list = [\"string\", 0.1, True, [4, 5], (6, 7)]\n",
    "null_list = []\n",
    "#(1)\n",
    "list_of_lists = []\n",
    "list_of_lists.extend(integer_list)\n",
    "list_of_lists.extend(heterogeneous_list)\n",
    "list_of_lists.extend(null_list)\n",
    "list_of_lists.append(3)\n",
    "print(list_of_lists)\n",
    "#(2)\n",
    "list_of_lists.append(sum(integer_list))\n",
    "print(list_of_lists)"
   ]
  },
  {
   "cell_type": "code",
   "execution_count": 27,
   "metadata": {},
   "outputs": [
    {
     "name": "stdout",
     "output_type": "stream",
     "text": [
      "0.5714025946899135\n",
      "0.5714025946899135\n"
     ]
    },
    {
     "data": {
      "text/plain": [
       "5"
      ]
     },
     "execution_count": 27,
     "metadata": {},
     "output_type": "execute_result"
    },
    {
     "data": {
      "text/plain": [
       "5"
      ]
     },
     "execution_count": 27,
     "metadata": {},
     "output_type": "execute_result"
    },
    {
     "data": {
      "text/plain": [
       "3"
      ]
     },
     "execution_count": 27,
     "metadata": {},
     "output_type": "execute_result"
    },
    {
     "name": "stdout",
     "output_type": "stream",
     "text": [
      "[8, 6, 4, 3, 9, 5, 10, 2, 1, 7]\n"
     ]
    }
   ],
   "source": [
    "#4\n",
    "import random\n",
    "random.seed(10)\n",
    "print(random.random())\n",
    "random.seed(10)\n",
    "print(random.random())\n",
    "random.seed(7)\n",
    "random.randrange(8)\n",
    "random.seed(7)\n",
    "random.randrange(8)\n",
    "random.randrange(3, 6)\n",
    "up_to_ten = [1, 2, 3, 4, 5, 6, 7, 8, 9, 10]\n",
    "random.shuffle(up_to_ten)\n",
    "print(up_to_ten)"
   ]
  },
  {
   "cell_type": "code",
   "execution_count": 61,
   "metadata": {},
   "outputs": [
    {
     "data": {
      "text/plain": [
       "(5, 3, 3)"
      ]
     },
     "execution_count": 61,
     "metadata": {},
     "output_type": "execute_result"
    },
    {
     "data": {
      "text/plain": [
       "(5, 5, 3)"
      ]
     },
     "execution_count": 61,
     "metadata": {},
     "output_type": "execute_result"
    },
    {
     "data": {
      "text/plain": [
       "(5, 5, 5)"
      ]
     },
     "execution_count": 61,
     "metadata": {},
     "output_type": "execute_result"
    },
    {
     "data": {
      "text/plain": [
       "(6, 8, 10)"
      ]
     },
     "execution_count": 61,
     "metadata": {},
     "output_type": "execute_result"
    }
   ],
   "source": [
    "#5\n",
    "# (1)\n",
    "class Point():\n",
    "    def __init__(self,x, y, z):\n",
    "        self.z = z\n",
    "        self.y = y\n",
    "        self.x = x\n",
    "    def setx(self, x):\n",
    "        self.x = x\n",
    "    def sety(self,y):\n",
    "        self.y = y\n",
    "    def setz(self,z):\n",
    "        self.z = z\n",
    "    def get(self):\n",
    "        return (self.x, self.y, self.z)\n",
    "    def move(self, dx, dy, dz):\n",
    "        self.x += dx\n",
    "        self.y += dy\n",
    "        self.z += dz\n",
    "# (2)\n",
    "point = Point(3,3,3)\n",
    "# (3)\n",
    "point.setx(5)\n",
    "point.get()\n",
    "point.sety(5)\n",
    "point.get()\n",
    "point.setz(5)\n",
    "point.get()\n",
    "point.move(1,3,5)\n",
    "point.get()"
   ]
  },
  {
   "cell_type": "markdown",
   "metadata": {},
   "source": [
    "202101544 마영준"
   ]
  }
 ],
 "metadata": {
  "kernelspec": {
   "display_name": "Python 3",
   "language": "python",
   "name": "python3"
  },
  "language_info": {
   "codemirror_mode": {
    "name": "ipython",
    "version": 3
   },
   "file_extension": ".py",
   "mimetype": "text/x-python",
   "name": "python",
   "nbconvert_exporter": "python",
   "pygments_lexer": "ipython3",
   "version": "3.8.5"
  }
 },
 "nbformat": 4,
 "nbformat_minor": 4
}
