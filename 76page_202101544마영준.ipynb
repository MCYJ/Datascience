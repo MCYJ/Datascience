{
 "cells": [
  {
   "cell_type": "markdown",
   "metadata": {},
   "source": [
    "202101544 마영준"
   ]
  },
  {
   "cell_type": "code",
   "execution_count": 9,
   "metadata": {},
   "outputs": [
    {
     "name": "stdout",
     "output_type": "stream",
     "text": [
      "출력1 :  0.7408\n",
      "출력2 :  0.6457\n"
     ]
    }
   ],
   "source": [
    "import math\n",
    "\n",
    "# i : 입력, w : 가중치\n",
    "i = [1.0, 0.5]\n",
    "w = [[0.9, 0.2],[0.3,0.8]]\n",
    "\n",
    "# 행렬곱 진행\n",
    "o1 = w[0][0]*i[0]+w[1][0]*i[1]\n",
    "o2 = w[0][1]*i[0]+w[1][1]*i[1]\n",
    "\n",
    "# 활성화 함수에 행렬곱의 값 저장\n",
    "o1 = 1/(1+math.exp(-o1))\n",
    "o2 = 1/(1+math.exp(-o2))\n",
    "\n",
    "print(\"출력1 : \", round(o1,4))\n",
    "print(\"출력2 : \", round(o2,4))"
   ]
  },
  {
   "cell_type": "markdown",
   "metadata": {},
   "source": [
    "202101544 마영준"
   ]
  }
 ],
 "metadata": {
  "kernelspec": {
   "display_name": "Python 3",
   "language": "python",
   "name": "python3"
  },
  "language_info": {
   "codemirror_mode": {
    "name": "ipython",
    "version": 3
   },
   "file_extension": ".py",
   "mimetype": "text/x-python",
   "name": "python",
   "nbconvert_exporter": "python",
   "pygments_lexer": "ipython3",
   "version": "3.8.5"
  }
 },
 "nbformat": 4,
 "nbformat_minor": 4
}
