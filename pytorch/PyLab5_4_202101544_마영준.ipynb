{
 "cells": [
  {
   "cell_type": "markdown",
   "metadata": {},
   "source": [
    "202101544 마영준"
   ]
  },
  {
   "cell_type": "code",
   "execution_count": 2,
   "metadata": {},
   "outputs": [],
   "source": [
    "import numpy as np\n",
    "import torch\n",
    "import torch.nn as nn\n",
    "import torch.optim as optim\n",
    "import torch.nn.init as init\n",
    "import torch.utils.data as data\n",
    "import torchvision.datasets as dset\n",
    "import torchvision.transforms as transforms\n",
    "from torch.utils.data import DataLoader"
   ]
  },
  {
   "cell_type": "code",
   "execution_count": 21,
   "metadata": {},
   "outputs": [],
   "source": [
    "batch_size= 1\n",
    "learning_rate = 0.0002\n",
    "num_epoch = 100"
   ]
  },
  {
   "cell_type": "code",
   "execution_count": 22,
   "metadata": {},
   "outputs": [],
   "source": [
    "img_dir = \"./images\"\n",
    "img_data = dset.ImageFolder(img_dir, transforms.Compose([\n",
    "                                      transforms.Resize(256),                   \n",
    "                                      transforms.RandomResizedCrop(224),        \n",
    "                                      transforms.RandomHorizontalFlip(),        \n",
    "                                      transforms.ToTensor(),                    \n",
    "            ]))\n",
    "\n",
    "train_loader = data.DataLoader(img_data, batch_size=batch_size,\n",
    "                            shuffle=True, num_workers=2)"
   ]
  },
  {
   "cell_type": "code",
   "execution_count": 23,
   "metadata": {},
   "outputs": [],
   "source": [
    "# ResNet 사용\n",
    "def conv_block_1(in_dim,out_dim,act_fn,stride=1):\n",
    "    model = nn.Sequential(\n",
    "        nn.Conv2d(in_dim,out_dim, kernel_size=1, stride=stride),\n",
    "        act_fn,\n",
    "    )\n",
    "    return model\n",
    "\n",
    "\n",
    "def conv_block_3(in_dim,out_dim,act_fn):\n",
    "    model = nn.Sequential(\n",
    "        nn.Conv2d(in_dim,out_dim, kernel_size=3, stride=1, padding=1),\n",
    "        act_fn,\n",
    "    )\n",
    "    return model"
   ]
  },
  {
   "cell_type": "code",
   "execution_count": 24,
   "metadata": {},
   "outputs": [],
   "source": [
    "class BottleNeck(nn.Module):\n",
    "    def __init__(self,in_dim,mid_dim,out_dim,act_fn,down=False):\n",
    "        super(BottleNeck,self).__init__()\n",
    "        self.down=down\n",
    "        \n",
    "        # 특성지도의 크기가 감소하는 경우\n",
    "        if self.down:\n",
    "            self.layer = nn.Sequential(\n",
    "              conv_block_1(in_dim,mid_dim,act_fn,2),\n",
    "              conv_block_3(mid_dim,mid_dim,act_fn),\n",
    "              conv_block_1(mid_dim,out_dim,act_fn),\n",
    "            )\n",
    "            self.downsample = nn.Conv2d(in_dim,out_dim,1,2)\n",
    "            \n",
    "        # 특성지도의 크기가 그대로인 경우\n",
    "        else:\n",
    "            self.layer = nn.Sequential(\n",
    "                conv_block_1(in_dim,mid_dim,act_fn),\n",
    "                conv_block_3(mid_dim,mid_dim,act_fn),\n",
    "                conv_block_1(mid_dim,out_dim,act_fn),\n",
    "            )\n",
    "            \n",
    "        # 더하기를 위해 차원을 맞춰주는 부분\n",
    "        self.dim_equalizer = nn.Conv2d(in_dim,out_dim,kernel_size=1)\n",
    "                  \n",
    "    def forward(self,x):\n",
    "        if self.down:\n",
    "            downsample = self.downsample(x)\n",
    "            out = self.layer(x)\n",
    "            out = out + downsample\n",
    "        else:\n",
    "            out = self.layer(x)\n",
    "            if x.size() is not out.size():\n",
    "                x = self.dim_equalizer(x)\n",
    "            out = out + x\n",
    "        return out\n"
   ]
  },
  {
   "cell_type": "code",
   "execution_count": 25,
   "metadata": {},
   "outputs": [],
   "source": [
    "class ResNet(nn.Module):\n",
    "\n",
    "    def __init__(self, base_dim, num_classes=2):\n",
    "        super(ResNet, self).__init__()\n",
    "        self.act_fn = nn.ReLU()\n",
    "        self.layer_1 = nn.Sequential(\n",
    "            nn.Conv2d(3,base_dim,7,2,3),\n",
    "            nn.ReLU(),\n",
    "            nn.MaxPool2d(3,2,1),\n",
    "        )\n",
    "        self.layer_2 = nn.Sequential(\n",
    "            BottleNeck(base_dim,base_dim,base_dim*4,self.act_fn),\n",
    "            BottleNeck(base_dim*4,base_dim,base_dim*4,self.act_fn),\n",
    "            BottleNeck(base_dim*4,base_dim,base_dim*4,self.act_fn,down=True),\n",
    "        )   \n",
    "        self.layer_3 = nn.Sequential(\n",
    "            BottleNeck(base_dim*4,base_dim*2,base_dim*8,self.act_fn),\n",
    "            BottleNeck(base_dim*8,base_dim*2,base_dim*8,self.act_fn),\n",
    "            BottleNeck(base_dim*8,base_dim*2,base_dim*8,self.act_fn),\n",
    "            BottleNeck(base_dim*8,base_dim*2,base_dim*8,self.act_fn,down=True),\n",
    "        )\n",
    "        self.layer_4 = nn.Sequential(\n",
    "            BottleNeck(base_dim*8,base_dim*4,base_dim*16,self.act_fn),\n",
    "            BottleNeck(base_dim*16,base_dim*4,base_dim*16,self.act_fn),\n",
    "            BottleNeck(base_dim*16,base_dim*4,base_dim*16,self.act_fn),            \n",
    "            BottleNeck(base_dim*16,base_dim*4,base_dim*16,self.act_fn),\n",
    "            BottleNeck(base_dim*16,base_dim*4,base_dim*16,self.act_fn),\n",
    "            BottleNeck(base_dim*16,base_dim*4,base_dim*16,self.act_fn,down=True),\n",
    "        )\n",
    "        self.layer_5 = nn.Sequential(\n",
    "            BottleNeck(base_dim*16,base_dim*8,base_dim*32,self.act_fn),\n",
    "            BottleNeck(base_dim*32,base_dim*8,base_dim*32,self.act_fn),\n",
    "            BottleNeck(base_dim*32,base_dim*8,base_dim*32,self.act_fn),\n",
    "        )\n",
    "        self.avgpool = nn.AvgPool2d(7,1) \n",
    "        self.fc_layer = nn.Linear(base_dim*32,num_classes)\n",
    "        \n",
    "    def forward(self, x):\n",
    "        out = self.layer_1(x)\n",
    "        out = self.layer_2(out)\n",
    "        out = self.layer_3(out)\n",
    "        out = self.layer_4(out)\n",
    "        out = self.layer_5(out)\n",
    "        out = self.avgpool(out)\n",
    "        out = out.view(batch_size,-1)\n",
    "        out = self.fc_layer(out)\n",
    "        \n",
    "        return out\n"
   ]
  },
  {
   "cell_type": "code",
   "execution_count": 26,
   "metadata": {},
   "outputs": [
    {
     "name": "stdout",
     "output_type": "stream",
     "text": [
      "cpu\n"
     ]
    }
   ],
   "source": [
    "device = torch.device(\"cuda:0\" if torch.cuda.is_available() else \"cpu\")\n",
    "print(device)\n",
    "    \n",
    "model = ResNet(base_dim=64).to(device)\n",
    "\n",
    "'''\n",
    "for i in model.children():\n",
    "    print(i)\n",
    "'''\n",
    "\n",
    "loss_func = nn.CrossEntropyLoss()\n",
    "optimizer = optim.Adam(model.parameters(),lr=learning_rate)"
   ]
  },
  {
   "cell_type": "code",
   "execution_count": 27,
   "metadata": {},
   "outputs": [
    {
     "name": "stdout",
     "output_type": "stream",
     "text": [
      "tensor(1.1128, grad_fn=<NllLossBackward0>)\n",
      "tensor(0.7088, grad_fn=<NllLossBackward0>)\n",
      "tensor(0.7027, grad_fn=<NllLossBackward0>)\n",
      "tensor(0.6943, grad_fn=<NllLossBackward0>)\n",
      "tensor(0.6977, grad_fn=<NllLossBackward0>)\n",
      "tensor(0.7013, grad_fn=<NllLossBackward0>)\n",
      "tensor(0.6910, grad_fn=<NllLossBackward0>)\n",
      "tensor(0.6999, grad_fn=<NllLossBackward0>)\n",
      "tensor(0.6991, grad_fn=<NllLossBackward0>)\n",
      "tensor(0.6117, grad_fn=<NllLossBackward0>)\n"
     ]
    }
   ],
   "source": [
    "loss_arr = []\n",
    "for i in range(num_epoch):\n",
    "    for j,[image,label] in enumerate(train_loader):\n",
    "        x = image.to(device)\n",
    "        y_= label.to(device)\n",
    "        \n",
    "        optimizer.zero_grad()\n",
    "        output = model.forward(x)\n",
    "        loss = loss_func(output,y_)\n",
    "        loss.backward()\n",
    "        optimizer.step()\n",
    "\n",
    "    if i % 10 ==0:\n",
    "        loss_arr.append(loss)\n",
    "        print(loss)"
   ]
  },
  {
   "cell_type": "code",
   "execution_count": 28,
   "metadata": {},
   "outputs": [
    {
     "data": {
      "text/plain": [
       "[<matplotlib.lines.Line2D at 0x1b74a4a3640>]"
      ]
     },
     "execution_count": 28,
     "metadata": {},
     "output_type": "execute_result"
    },
    {
     "data": {
      "image/png": "[encoded data removed]",
      "text/plain": [
       "<Figure size 432x288 with 1 Axes>"
      ]
     },
     "metadata": {
      "needs_background": "light"
     },
     "output_type": "display_data"
    }
   ],
   "source": [
    "import matplotlib.pyplot as plt\n",
    "\n",
    "plt.title('loss of learning per 1000 steps')\n",
    "plt.plot(loss_arr)"
   ]
  },
  {
   "cell_type": "markdown",
   "metadata": {},
   "source": [
    "202101544 마영준"
   ]
  }
 ],
 "metadata": {
  "kernelspec": {
   "display_name": "Python 3",
   "language": "python",
   "name": "python3"
  },
  "language_info": {
   "codemirror_mode": {
    "name": "ipython",
    "version": 3
   },
   "file_extension": ".py",
   "mimetype": "text/x-python",
   "name": "python",
   "nbconvert_exporter": "python",
   "pygments_lexer": "ipython3",
   "version": "3.8.5"
  }
 },
 "nbformat": 4,
 "nbformat_minor": 4
}
