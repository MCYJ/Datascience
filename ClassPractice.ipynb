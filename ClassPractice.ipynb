{
 "cells": [
  {
   "cell_type": "markdown",
   "metadata": {},
   "source": [
    "202101544 마영준"
   ]
  },
  {
   "cell_type": "code",
   "execution_count": 3,
   "metadata": {},
   "outputs": [
    {
     "name": "stdout",
     "output_type": "stream",
     "text": [
      "(3, 3)\n",
      "(5, 3)\n",
      "(5, 5)\n",
      "(2, 10)\n"
     ]
    }
   ],
   "source": [
    "class Point:\n",
    "    def __init__(self, x, y):\n",
    "        self.x = x\n",
    "        self.y = y\n",
    "        \n",
    "    def setx(self, x):\n",
    "        self.x = x\n",
    "        pass\n",
    "    \n",
    "    def sety(self, y):\n",
    "        self.y = y\n",
    "        pass\n",
    "    \n",
    "    def get(self):\n",
    "        return (self.x, self.y)\n",
    "    \n",
    "    def move(self, dx, dy):\n",
    "        self.x += dx\n",
    "        self.y += dy\n",
    "        pass\n",
    "\n",
    "point = Point(3,3)\n",
    "print(point.get())\n",
    "point.setx(5)\n",
    "print(point.get())\n",
    "point.sety(5)\n",
    "print(point.get())\n",
    "point.move(-3,5)\n",
    "print(point.get())\n"
   ]
  },
  {
   "cell_type": "markdown",
   "metadata": {},
   "source": [
    "202101544 마영준"
   ]
  }
 ],
 "metadata": {
  "kernelspec": {
   "display_name": "Python 3",
   "language": "python",
   "name": "python3"
  },
  "language_info": {
   "codemirror_mode": {
    "name": "ipython",
    "version": 3
   },
   "file_extension": ".py",
   "mimetype": "text/x-python",
   "name": "python",
   "nbconvert_exporter": "python",
   "pygments_lexer": "ipython3",
   "version": "3.8.5"
  }
 },
 "nbformat": 4,
 "nbformat_minor": 4
}
