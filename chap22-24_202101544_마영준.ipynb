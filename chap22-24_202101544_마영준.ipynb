{
 "cells": [
  {
   "cell_type": "code",
   "execution_count": 1,
   "metadata": {},
   "outputs": [],
   "source": [
    "import numpy\n",
    "import scipy.special\n",
    "import matplotlib.pyplot\n",
    "\n",
    "%matplotlib inline"
   ]
  },
  {
   "cell_type": "code",
   "execution_count": 2,
   "metadata": {},
   "outputs": [],
   "source": [
    "class neuralNetwork:\n",
    "    \n",
    "    def __init__(self, inputnodes, hidden1nodes, hidden2nodes, outputnodes, learningrate):\n",
    "        # 입력, 은닉, 출력계층의 노드갯수 설정\n",
    "        self.inodes = inputnodes\n",
    "        self.hnodes1 = hidden1nodes\n",
    "        self.hnodes2 = hidden2nodes\n",
    "        self.onodes = outputnodes\n",
    "        \n",
    "        # 가중치행렬 wih와 who\n",
    "        self.wih1 = numpy.random.normal(0.0, pow(self.hnodes1, -0.5), (self.hnodes1, self.inodes))\n",
    "        self.wh1h2 = numpy.random.normal(0.0, pow(self.hnodes2, -0.5), (self.hnodes2, self.hnodes1))\n",
    "        self.wh2o = numpy.random.normal(0.0, pow(self.onodes, -0.5), (self.onodes, self.hnodes2))\n",
    "        \n",
    "        self.lr = learningrate\n",
    "        \n",
    "        self.activation_function = lambda x: scipy.special.expit(x)\n",
    "        \n",
    "        pass\n",
    "    \n",
    "    def train(self, inputs_list, targets_list):\n",
    "        inputs = numpy.array(inputs_list, ndmin=2).T\n",
    "        targets = numpy.array(targets_list, ndmin=2).T\n",
    "        \n",
    "        hidden1_inputs = numpy.dot(self.wih1, inputs)\n",
    "        hidden1_outputs = self.activation_function(hidden1_inputs)\n",
    "        \n",
    "        hidden2_inputs = numpy.dot(self.wh1h2, hidden1_outputs)\n",
    "        hidden2_outputs = self.activation_function(hidden2_inputs)\n",
    "        \n",
    "        final_inputs = numpy.dot(self.wh2o, hidden2_outputs)\n",
    "        final_outputs = self.activation_function(final_inputs)\n",
    "        \n",
    "        output_errors = targets - final_outputs\n",
    "        hidden2_errors = numpy.dot(self.wh2o.T, output_errors)\n",
    "        hidden1_errors = numpy.dot(self.wh1h2.T, hidden2_errors)\n",
    "        \n",
    "        self.wh2o += self.lr*numpy.dot((output_errors*final_outputs*(1.0 - final_outputs)), numpy.transpose(hidden2_outputs))\n",
    "        self.wh1h2 += self.lr*numpy.dot((hidden2_errors*hidden2_outputs*(1.0-hidden2_outputs)), numpy.transpose(hidden1_outputs))\n",
    "        self.wih1 += self.lr*numpy.dot((hidden1_errors*hidden1_outputs*(1.0 - hidden1_outputs)), numpy.transpose(inputs))\n",
    "        \n",
    "        pass\n",
    "    \n",
    "    def query(self, inputs_list):\n",
    "        inputs = numpy.array(inputs_list, ndmin=2).T\n",
    "        \n",
    "        hidden1_inputs = numpy.dot(self.wih1, inputs)\n",
    "        hidden1_outputs = self.activation_function(hidden1_inputs)\n",
    "        \n",
    "        hidden2_inputs = numpy.dot(self.wh1h2, hidden1_outputs)\n",
    "        hidden2_outputs = self.activation_function(hidden2_inputs)\n",
    "        \n",
    "        final_inputs = numpy.dot(self.wh2o, hidden2_outputs)\n",
    "        final_outputs = self.activation_function(final_inputs)\n",
    "        \n",
    "        return final_outputs\n",
    "    \n"
   ]
  },
  {
   "cell_type": "code",
   "execution_count": 55,
   "metadata": {},
   "outputs": [],
   "source": [
    "input_nodes = 784\n",
    "hidden1_nodes = 108\n",
    "# hidden layer 추가\n",
    "hidden2_nodes = 108\n",
    "output_nodes = 10\n",
    "    \n",
    "learning_rate = 0.2\n",
    "\n",
    "# parameter에도 hidden layer 하나 더 추가\n",
    "n = neuralNetwork(input_nodes, hidden1_nodes, hidden2_nodes, output_nodes, learning_rate)"
   ]
  },
  {
   "cell_type": "code",
   "execution_count": 56,
   "metadata": {},
   "outputs": [],
   "source": [
    "training_data_file = open(\"mnist_dataset/mnist_train.csv\", 'r')\n",
    "training_data_list = training_data_file.readlines()\n",
    "training_data_file.close()"
   ]
  },
  {
   "cell_type": "code",
   "execution_count": 58,
   "metadata": {},
   "outputs": [],
   "source": [
    "epochs = 15\n",
    "\n",
    "for e in range(epochs):\n",
    "    for record in training_data_list:\n",
    "        all_values = record.split(',')\n",
    "        inputs = (numpy.asfarray(all_values[1:]) / 255.0 * 0.99) + 0.01\n",
    "        targets = numpy.zeros(output_nodes) + 0.01\n",
    "        targets[int(all_values[0])] = 0.99\n",
    "        n.train(inputs, targets)\n",
    "        pass\n",
    "pass"
   ]
  },
  {
   "cell_type": "code",
   "execution_count": 64,
   "metadata": {},
   "outputs": [
    {
     "name": "stdout",
     "output_type": "stream",
     "text": [
      "***correct_label: 1\n",
      "(784, 1)\n",
      "***correct_label: 2\n",
      "(784, 1)\n",
      "***correct_label: 3\n",
      "(784, 1)\n",
      "***correct_label: 4\n",
      "(784, 1)\n",
      "***correct_label: 5\n",
      "(784, 1)\n",
      "***correct_label: 6\n",
      "(784, 1)\n",
      "***correct_label: 7\n",
      "(784, 1)\n",
      "***correct_label: 8\n",
      "(784, 1)\n",
      "***correct_label: 9\n",
      "(784, 1)\n",
      "9\n"
     ]
    }
   ],
   "source": [
    "%matplotlib inline\n",
    "import imageio\n",
    "import glob\n",
    "import matplotlib.pyplot\n",
    "image_list = []\n",
    "for image_file_name in glob.glob('my_own_images/?.png'):\n",
    "    correct_label = int(image_file_name[-5:-4])\n",
    "    print(\"***correct_label:\", correct_label)\n",
    "    \n",
    "    image_array = imageio.imread(image_file_name)\n",
    "    \n",
    "    #matplotlib.pyplot.imshow(image_array, cmap='Reds', interpolation='None')\n",
    "    #matplotlib.pyplot.show()\n",
    "    \n",
    "    image_array = image_array[:,:,0]\n",
    "    #print(image_array.shape)\n",
    "    #print(image_array)\n",
    "    image_array = numpy.reshape(image_array, (784,1))\n",
    "    image_data = 255.0 - image_array\n",
    "    image_data = (image_array / 255.0 * 0.99) + 0.01\n",
    "    print(numpy.shape(image_data))\n",
    "    image_list.append(image_data)\n",
    "    #matplotlib.pyplot.imshow(image_array, cmap='Reds', interpolation='None')\n",
    "    #matplotlib.pyplot.show()\n",
    "print(len(image_list))"
   ]
  },
  {
   "cell_type": "code",
   "execution_count": 66,
   "metadata": {},
   "outputs": [
    {
     "name": "stdout",
     "output_type": "stream",
     "text": [
      "8\n",
      "8\n",
      "8\n",
      "8\n",
      "3\n",
      "8\n",
      "3\n",
      "3\n",
      "3\n"
     ]
    }
   ],
   "source": [
    "scorecard = []\n",
    "\n",
    "#for record in test_data_list:\n",
    "correct_label = [2,0,2,1,0,1,5,4,4]\n",
    "i = 0\n",
    "for record in image_list:\n",
    "    #all_values = record.split(',')\n",
    "    #numpy.reshape(record, (784,1))\n",
    "    \n",
    "    inputs = (numpy.asfarray(record) / 255.0 * 0.99) + 0.01\n",
    "\n",
    "    outputs = n.query(inputs.T)\n",
    "    label = numpy.argmax(outputs)\n",
    "    print(label)\n",
    "    if(label == correct_label[i]):\n",
    "        scorecard.append(1)\n",
    "    else:\n",
    "        scorecard.append(0)\n",
    "        pass\n",
    "    pass\n",
    "    i += 1\n",
    "    \n"
   ]
  },
  {
   "cell_type": "code",
   "execution_count": 67,
   "metadata": {},
   "outputs": [
    {
     "name": "stdout",
     "output_type": "stream",
     "text": [
      "Performance =  0.0\n"
     ]
    }
   ],
   "source": [
    "scorecard_array = numpy.asarray(scorecard)\n",
    "print(\"Performance = \", scorecard_array.sum() / scorecard_array.size)"
   ]
  },
  {
   "cell_type": "code",
   "execution_count": 69,
   "metadata": {},
   "outputs": [
    {
     "name": "stdout",
     "output_type": "stream",
     "text": [
      "[0, 0, 0, 0, 0, 0, 0, 0, 0]\n",
      "nodes = 108 rate = 0.2 performance = 0.0\n"
     ]
    }
   ],
   "source": [
    "print(scorecard)\n",
    "scorecard_array=numpy.asarray(scorecard)\n",
    "print(\"nodes =\", hidden1_nodes, \"rate =\", learning_rate, \"performance =\", scorecard_array.sum() / scorecard_array.size)"
   ]
  },
  {
   "cell_type": "code",
   "execution_count": null,
   "metadata": {},
   "outputs": [],
   "source": []
  }
 ],
 "metadata": {
  "kernelspec": {
   "display_name": "Python 3",
   "language": "python",
   "name": "python3"
  },
  "language_info": {
   "codemirror_mode": {
    "name": "ipython",
    "version": 3
   },
   "file_extension": ".py",
   "mimetype": "text/x-python",
   "name": "python",
   "nbconvert_exporter": "python",
   "pygments_lexer": "ipython3",
   "version": "3.8.5"
  }
 },
 "nbformat": 4,
 "nbformat_minor": 4
}
